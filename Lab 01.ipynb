{
 "cells": [
  {
   "cell_type": "code",
   "execution_count": 1,
   "metadata": {
    "id": "SJtJSkdfVheJ"
   },
   "outputs": [],
   "source": [
    "import shutil, os, random\n",
    "\n",
    "import tensorflow as tf\n",
    "\n",
    "import tensorflow.keras.utils as utils\n",
    "\n",
    "from tensorflow.keras.models import Model\n",
    "\n",
    "import tensorflow.keras.layers as layers\n",
    "\n",
    "from tensorflow.keras.applications import MobileNet"
   ]
  },
  {
   "cell_type": "code",
   "execution_count": null,
   "metadata": {
    "id": "Hxb2dXvNWRsK"
   },
   "outputs": [],
   "source": [
    "origin = \"https://download.microsoft.com/download/3/E/1/3E1C3F21-ECDB-4869-8368-6DEBA77B919F/\"\n",
    "\n",
    "origin = origin + \"kagglecatsanddogs_5340.zip\"\n",
    "\n",
    "tenori(origin)"
   ]
  },
  {
   "cell_type": "code",
   "execution_count": 3,
   "metadata": {
    "colab": {
     "base_uri": "https://localhost:8080/"
    },
    "id": "gK0joQmVWca3",
    "outputId": "0da4d7a1-1848-4d9b-f1f2-d22ad3c9c542"
   },
   "outputs": [
    {
     "data": {
      "text/plain": [
       "['cats', 'dogs']"
      ]
     },
     "execution_count": 3,
     "metadata": {},
     "output_type": "execute_result"
    }
   ],
   "source": [
    "rooter = \"/tmp/datasets/petimages\"\n",
    "\n",
    "os.listdir(rooter)"
   ]
  },
  {
   "cell_type": "code",
   "execution_count": 4,
   "metadata": {
    "colab": {
     "base_uri": "https://localhost:8080/"
    },
    "id": "0ylSjG3jWsKT",
    "outputId": "316f27eb-a7fc-4f3c-f0ea-6fdca6ceb78e"
   },
   "outputs": [
    {
     "data": {
      "text/plain": [
       "759"
      ]
     },
     "execution_count": 4,
     "metadata": {},
     "output_type": "execute_result"
    }
   ],
   "source": [
    "def imroot(root):\n",
    "\n",
    "  i = 0\n",
    "  for item in os.listdir(root):\n",
    "    roti = os.path.join(root, item)\n",
    "    try:\n",
    "      inputi = open(roti, \"rb\")\n",
    "      images = tf.compat.as_bytes(\"JFIF\") in inputi.peek(10)\n",
    "    finally:\n",
    "      inputi.close()\n",
    "\n",
    "    if not images:\n",
    "      i += 1\n",
    "      os.remove(roti)\n",
    "\n",
    "  return i\n",
    "\n",
    "imroot(os.path.join(rooter, \"cats\"))"
   ]
  },
  {
   "cell_type": "code",
   "execution_count": 5,
   "metadata": {
    "colab": {
     "base_uri": "https://localhost:8080/"
    },
    "id": "WTDIkPD7WzQV",
    "outputId": "d413adf3-7820-4c21-ed62-34a6be8ef968"
   },
   "outputs": [
    {
     "data": {
      "text/plain": [
       "831"
      ]
     },
     "execution_count": 5,
     "metadata": {},
     "output_type": "execute_result"
    }
   ],
   "source": [
    "imroot(os.path.join(rooter, \"dogs\"))"
   ]
  },
  {
   "cell_type": "code",
   "execution_count": 6,
   "metadata": {
    "colab": {
     "base_uri": "https://localhost:8080/"
    },
    "id": "QTGGNOeqW1bF",
    "outputId": "d6ff030c-8c40-4317-b548-775853548cfb"
   },
   "outputs": [
    {
     "data": {
      "text/plain": [
       "23412"
      ]
     },
     "execution_count": 6,
     "metadata": {},
     "output_type": "execute_result"
    }
   ],
   "source": [
    "i = len(os.listdir(os.path.join(rooter, \"cats\")))\n",
    "\n",
    "j = len(os.listdir(os.path.join(rooter, \"dogs\")))\n",
    "\n",
    "i + j"
   ]
  },
  {
   "cell_type": "code",
   "execution_count": null,
   "metadata": {
    "id": "XixtfUEVW9_5"
   },
   "outputs": [],
   "source": [
    "subset = \"both\"; label = \"binary\"\n",
    "\n",
    "image = (160, 160); split = 0.3; random = 128\n",
    "\n",
    "unseet = 10\n",
    "\n",
    "orifile = utils.image_dataset_from_directory(\n",
    "  rooter,\n",
    "  seed = unseet,\n",
    "  subset = subset,\n",
    "  image_size = image,\n",
    "  label_mode = label,\n",
    "  batch_size = random,\n",
    "  validation_split = split\n",
    ")\n",
    "\n",
    "train, testi = orifile"
   ]
  },
  {
   "cell_type": "code",
   "execution_count": 8,
   "metadata": {
    "colab": {
     "base_uri": "https://localhost:8080/"
    },
    "id": "9dBlIaTwXGzv",
    "outputId": "b8df7e59-e7f9-4690-9af7-bbcead7a90eb"
   },
   "outputs": [
    {
     "data": {
      "text/plain": [
       "['cats', 'dogs']"
      ]
     },
     "execution_count": 8,
     "metadata": {},
     "output_type": "execute_result"
    }
   ],
   "source": [
    "labeler = train.class_names\n",
    "\n",
    "labeler"
   ]
  },
  {
   "cell_type": "code",
   "execution_count": 9,
   "metadata": {
    "id": "LgpX-JgtXCCn"
   },
   "outputs": [],
   "source": [
    "relater = lambda i, l : (tf.cast(tf.math.divide(i, 255.0), tf.float32), l)\n",
    "\n",
    "train = train.map(relater).cache().prefetch(1)\n",
    "\n",
    "testi = testi.map(relater)"
   ]
  },
  {
   "cell_type": "code",
   "execution_count": 10,
   "metadata": {
    "id": "1wEMBoQRXLSA"
   },
   "outputs": [],
   "source": [
    "class Helper(Model):\n",
    "  def __init__(self):\n",
    "    super(Helper, self).__init__()\n",
    "    self.flip_left_right = layers.RandomFlip()\n",
    "    self.random_rotation = layers.RandomRotation(factor=0.4)\n",
    "    self.random_translation = layers.RandomTranslation(height_factor=0.2, width_factor=0.2)\n",
    "    self.random_size = layers.RandomZoom(height_factor=0.2)\n",
    "\n",
    "  def call(self, i):\n",
    "    x = self.flip_left_right(i)\n",
    "    x = self.random_translation(x)\n",
    "    x = self.random_translation(x)\n",
    "    x = self.random_size(x)\n",
    "    return x\n",
    "\n",
    "imager = Helper()\n",
    "\n",
    "train = train.map(lambda i, l : (imager(i), l))\n",
    "\n",
    "testi = testi.map(lambda i, l : (imager(i), l))"
   ]
  },
  {
   "cell_type": "code",
   "execution_count": 11,
   "metadata": {
    "colab": {
     "base_uri": "https://localhost:8080/"
    },
    "id": "CYKff6msYNwp",
    "outputId": "39e31beb-ffdf-4da0-8904-e5d5ae7f1269"
   },
   "outputs": [
    {
     "data": {
      "text/plain": [
       "(129, 55)"
      ]
     },
     "execution_count": 11,
     "metadata": {},
     "output_type": "execute_result"
    }
   ],
   "source": [
    "len(train), len(testi)"
   ]
  },
  {
   "cell_type": "code",
   "execution_count": 12,
   "metadata": {
    "colab": {
     "base_uri": "https://localhost:8080/"
    },
    "id": "W_2ZxEcRYR7C",
    "outputId": "bf96174a-4397-4d7f-e27e-eff2020a299a"
   },
   "outputs": [
    {
     "data": {
      "text/plain": [
       "(13, 8)"
      ]
     },
     "execution_count": 12,
     "metadata": {},
     "output_type": "execute_result"
    }
   ],
   "source": [
    "train = train.take(13); testi = testi.take(8)\n",
    "\n",
    "len(train), len(testi)"
   ]
  },
  {
   "cell_type": "code",
   "execution_count": null,
   "metadata": {
    "id": "MMcMj_tcYT84"
   },
   "outputs": [],
   "source": [
    "from tensorflow.keras.applications import MobileNet\n",
    "\n",
    "inputs = layers.Input((160, 160, 3))\n",
    "\n",
    "intnet = MobileNet(weights=\"imagenet\", include_top=False, input_tensor=inputs)\n",
    "\n",
    "intnet.trainable = False\n",
    "\n",
    "x = layers.GlobalAveragePooling2D()(intnet.output)\n",
    "\n",
    "output = layers.Dense(1, activation='sigmoid')(x)\n",
    "\n",
    "model = Model(inputs, output)"
   ]
  },
  {
   "cell_type": "code",
   "execution_count": 14,
   "metadata": {
    "id": "ST9eWjb2YYnl"
   },
   "outputs": [],
   "source": [
    "model.compile(optimizer=\"adam\", loss='binary_crossentropy', metrics=[\"accuracy\"])"
   ]
  },
  {
   "cell_type": "code",
   "execution_count": null,
   "metadata": {
    "id": "tBH8WRHuYcAK"
   },
   "outputs": [],
   "source": [
    "epochs = 10\n",
    "\n",
    "plot = model.fit(train, validation_data=testi, epochs=epochs)"
   ]
  },
  {
   "cell_type": "code",
   "execution_count": 16,
   "metadata": {
    "colab": {
     "base_uri": "https://localhost:8080/"
    },
    "id": "Nm0u_lqBYe8U",
    "outputId": "6a04f293-59c5-43f2-a1c7-7bec9c61da3e"
   },
   "outputs": [
    {
     "data": {
      "text/plain": [
       "[0.26410797238349915, 0.885817289352417]"
      ]
     },
     "execution_count": 16,
     "metadata": {},
     "output_type": "execute_result"
    }
   ],
   "source": [
    "model.evaluate(train, verbose=0)"
   ]
  },
  {
   "cell_type": "code",
   "execution_count": 17,
   "metadata": {
    "colab": {
     "base_uri": "https://localhost:8080/"
    },
    "id": "UsMTyyKpYhOw",
    "outputId": "8216a274-59f2-4870-88ba-f92e15fe6339"
   },
   "outputs": [
    {
     "data": {
      "text/plain": [
       "[0.27894771099090576, 0.87109375]"
      ]
     },
     "execution_count": 17,
     "metadata": {},
     "output_type": "execute_result"
    }
   ],
   "source": [
    "model.evaluate(testi, verbose=0)"
   ]
  },
  {
   "cell_type": "code",
   "execution_count": 18,
   "metadata": {
    "colab": {
     "base_uri": "https://localhost:8080/",
     "height": 528
    },
    "id": "aZJRJBSqaQV_",
    "outputId": "251070fb-a0bf-4c1d-8510-d23449524e76"
   },
   "outputs": [
    {
     "data": {
      "image/png": "[encoded data removed]",
      "text/plain": [
       "<Figure size 1000x500 with 2 Axes>"
      ]
     },
     "metadata": {},
     "output_type": "display_data"
    }
   ],
   "source": [
    "plot = Helplot(plot)\n",
    "\n",
    "plot.trainplot"
   ]
  },
  {
   "cell_type": "code",
   "execution_count": 19,
   "metadata": {
    "colab": {
     "base_uri": "https://localhost:8080/",
     "height": 528
    },
    "id": "adtAa-TSajJs",
    "outputId": "ddb392bd-1a63-49f9-86ae-1c6a51ac24db"
   },
   "outputs": [
    {
     "data": {
      "image/png": "[encoded data removed]",
      "text/plain": [
       "<Figure size 1000x500 with 2 Axes>"
      ]
     },
     "metadata": {},
     "output_type": "display_data"
    }
   ],
   "source": [
    "plot.testiplot"
   ]
  },
  {
   "cell_type": "code",
   "execution_count": 20,
   "metadata": {
    "id": "cSy2kq-tYjjY"
   },
   "outputs": [],
   "source": [
    "import os\n",
    "\n",
    "molder = \"/content/model\"\n",
    "\n",
    "tf.saved_model.save(model, molder)"
   ]
  },
  {
   "cell_type": "markdown",
   "metadata": {
    "id": "Mm0e5UAZY1ux"
   },
   "source": [
    "### ```Optional 0```"
   ]
  },
  {
   "cell_type": "code",
   "execution_count": 21,
   "metadata": {
    "id": "9CyYi7TiYkp0"
   },
   "outputs": [],
   "source": [
    "meta = lambda filepath : os.path.getsize(filepath) / float(2**20)"
   ]
  },
  {
   "cell_type": "code",
   "execution_count": 22,
   "metadata": {
    "id": "ctMPL1srYl1a"
   },
   "outputs": [],
   "source": [
    "tflite = tf.lite.TFLiteConverter\n",
    "\n",
    "tflite_model = tflite.from_saved_model(molder)"
   ]
  },
  {
   "cell_type": "code",
   "execution_count": 23,
   "metadata": {
    "id": "zAWE7-sFYmZg"
   },
   "outputs": [],
   "source": [
    "optim = [tf.lite.Optimize.DEFAULT]\n",
    "\n",
    "tflite_model.optimizations = optim"
   ]
  },
  {
   "cell_type": "code",
   "execution_count": 24,
   "metadata": {
    "colab": {
     "base_uri": "https://localhost:8080/"
    },
    "id": "FWMtwDOTYpCp",
    "outputId": "d059e32f-6969-4dff-ac05-261fb22b5786"
   },
   "outputs": [
    {
     "data": {
      "text/plain": [
       "(tf.float32, tf.float32)"
      ]
     },
     "execution_count": 24,
     "metadata": {},
     "output_type": "execute_result"
    }
   ],
   "source": [
    "tflite_model.inference_input_type, tflite_model.inference_output_type"
   ]
  },
  {
   "cell_type": "code",
   "execution_count": 25,
   "metadata": {
    "colab": {
     "base_uri": "https://localhost:8080/"
    },
    "id": "qy_mNP2bYyyM",
    "outputId": "2a805f59-875a-4260-d3ef-80dbc9ae148c"
   },
   "outputs": [
    {
     "data": {
      "text/plain": [
       "3381112"
      ]
     },
     "execution_count": 25,
     "metadata": {},
     "output_type": "execute_result"
    }
   ],
   "source": [
    "import pathlib\n",
    "\n",
    "tflite_model = tflite_model.convert()\n",
    "\n",
    "tflite_model_file = pathlib.Path(\"modelite.tflite\")\n",
    "\n",
    "tflite_model_file.write_bytes(tflite_model)"
   ]
  },
  {
   "cell_type": "code",
   "execution_count": 26,
   "metadata": {
    "colab": {
     "base_uri": "https://localhost:8080/"
    },
    "id": "5SPkE-rBatdV",
    "outputId": "294563f4-30c7-40d7-83d0-9ed214bec7fc"
   },
   "outputs": [
    {
     "data": {
      "text/plain": [
       "3.224"
      ]
     },
     "execution_count": 26,
     "metadata": {},
     "output_type": "execute_result"
    }
   ],
   "source": [
    "round(meta(\"/content/modelite.tflite\"), 3)"
   ]
  },
  {
   "cell_type": "code",
   "execution_count": 27,
   "metadata": {
    "colab": {
     "base_uri": "https://localhost:8080/"
    },
    "id": "js25AHBneGOW",
    "outputId": "8678f143-0521-4873-f145-0c10e07f8133"
   },
   "outputs": [
    {
     "data": {
      "text/plain": [
       "{'serving_default': {'inputs': ['input_1'], 'outputs': ['dense']}}"
      ]
     },
     "execution_count": 27,
     "metadata": {},
     "output_type": "execute_result"
    }
   ],
   "source": [
    "interpreter = tf.lite.Interpreter(model_path=\"/content/modelite.tflite\")\n",
    "\n",
    "interpreter.get_signature_list()"
   ]
  },
  {
   "cell_type": "code",
   "execution_count": 28,
   "metadata": {
    "colab": {
     "base_uri": "https://localhost:8080/"
    },
    "id": "11DMOEBzeP9G",
    "outputId": "640e72fb-26be-4f19-e528-6a7ff6a913fd"
   },
   "outputs": [
    {
     "data": {
      "text/plain": [
       "<tensorflow.lite.python.interpreter.SignatureRunner at 0x791f2e93f940>"
      ]
     },
     "execution_count": 28,
     "metadata": {},
     "output_type": "execute_result"
    }
   ],
   "source": [
    "clasilite = interpreter.get_signature_runner('serving_default')\n",
    "\n",
    "clasilite"
   ]
  },
  {
   "cell_type": "code",
   "execution_count": 29,
   "metadata": {
    "colab": {
     "base_uri": "https://localhost:8080/",
     "height": 35
    },
    "id": "c-IOeruBeyOq",
    "outputId": "63c50406-3bc5-40b8-c41e-580aa987b43f"
   },
   "outputs": [
    {
     "data": {
      "application/vnd.google.colaboratory.intrinsic+json": {
       "type": "string"
      },
      "text/plain": [
       "'/tmp/datasets/petimages/cats/5174.jpg'"
      ]
     },
     "execution_count": 29,
     "metadata": {},
     "output_type": "execute_result"
    }
   ],
   "source": [
    "cats = \"/tmp/datasets/petimages/cats\"\n",
    "\n",
    "catest = os.path.join(cats, os.listdir(cats)[0])\n",
    "\n",
    "catest"
   ]
  },
  {
   "cell_type": "code",
   "execution_count": 30,
   "metadata": {
    "id": "yZD8O8sOe-nc"
   },
   "outputs": [],
   "source": [
    "i = utils.load_img(catest, target_size=(160, 160))\n",
    "\n",
    "i = utils.img_to_array(i)\n",
    "\n",
    "i = tf.expand_dims(i, axis=0)\n",
    "\n",
    "i = tf.cast(i / 255.0, tf.float32)"
   ]
  },
  {
   "cell_type": "code",
   "execution_count": 31,
   "metadata": {
    "colab": {
     "base_uri": "https://localhost:8080/",
     "height": 35
    },
    "id": "0ejDJJ-zeZsT",
    "outputId": "7371f70a-4808-4a51-dcef-91161b0ca1a2"
   },
   "outputs": [
    {
     "data": {
      "application/vnd.google.colaboratory.intrinsic+json": {
       "type": "string"
      },
      "text/plain": [
       "'cats'"
      ]
     },
     "execution_count": 31,
     "metadata": {},
     "output_type": "execute_result"
    }
   ],
   "source": [
    "reclat = clasilite(input_1=i)['dense']\n",
    "\n",
    "labeler[round(reclat.tolist()[0][0])]"
   ]
  },
  {
   "cell_type": "markdown",
   "metadata": {
    "id": "oeY9QjdKdtxS"
   },
   "source": [
    "### ```Optional 1```"
   ]
  },
  {
   "cell_type": "code",
   "execution_count": null,
   "metadata": {
    "id": "_ZxSEOKYa4Yx"
   },
   "outputs": [],
   "source": [
    "model.save(\"/content/modelite.h5\")"
   ]
  },
  {
   "cell_type": "code",
   "execution_count": 33,
   "metadata": {
    "id": "LCaqM4Ura_k4"
   },
   "outputs": [],
   "source": [
    "motest = tf.keras.models.load_model(\"/content/modelite.h5\", compile=False)\n",
    "\n",
    "def output(t, input_shape=(160, 160, 3)):\n",
    "  i = utils.load_img(t, target_size=input_shape)\n",
    "  i = utils.img_to_array(i)\n",
    "  i = tf.expand_dims(i, axis=0)\n",
    "  i = tf.cast(i / 255.0, tf.float32)\n",
    "  j = motest.predict(i, verbose=0)\n",
    "  result = labeler[round(j.tolist()[0][0])]\n",
    "  return result"
   ]
  },
  {
   "cell_type": "code",
   "execution_count": 34,
   "metadata": {
    "colab": {
     "base_uri": "https://localhost:8080/"
    },
    "id": "mWlT5hzXciBx",
    "outputId": "f7740668-b554-4453-9d3a-00543f9ade1b"
   },
   "outputs": [
    {
     "data": {
      "text/plain": [
       "['cats', 'cats', 'cats', 'cats', 'cats']"
      ]
     },
     "execution_count": 34,
     "metadata": {},
     "output_type": "execute_result"
    }
   ],
   "source": [
    "cats = \"/tmp/datasets/petimages/cats\"\n",
    "\n",
    "catest = os.listdir(cats)[:5]\n",
    "\n",
    "catest = [os.path.join(cats, i) for i in catest]\n",
    "\n",
    "[output(i) for i in catest]"
   ]
  },
  {
   "cell_type": "code",
   "execution_count": 35,
   "metadata": {
    "colab": {
     "base_uri": "https://localhost:8080/"
    },
    "id": "v7z1XRAyc5E3",
    "outputId": "fb7b3e91-6602-4f8a-c5bc-1f35cb51f53b"
   },
   "outputs": [
    {
     "data": {
      "text/plain": [
       "['dogs', 'dogs', 'dogs', 'dogs', 'dogs']"
      ]
     },
     "execution_count": 35,
     "metadata": {},
     "output_type": "execute_result"
    }
   ],
   "source": [
    "dogs = \"/tmp/datasets/petimages/dogs\"\n",
    "\n",
    "dotest = os.listdir(\"/tmp/datasets/petimages/dogs\")[:5]\n",
    "\n",
    "dotest = [os.path.join(dogs, i) for i in dotest]\n",
    "\n",
    "[output(i) for i in dotest]"
   ]
  }
 ],
 "metadata": {
  "accelerator": "GPU",
  "colab": {
   "gpuType": "T4",
   "provenance": []
  },
  "kernelspec": {
   "display_name": "Python 3 (ipykernel)",
   "language": "python",
   "name": "python3"
  },
  "language_info": {
   "codemirror_mode": {
    "name": "ipython",
    "version": 3
   },
   "file_extension": ".py",
   "mimetype": "text/x-python",
   "name": "python",
   "nbconvert_exporter": "python",
   "pygments_lexer": "ipython3",
   "version": "3.9.13"
  }
 },
 "nbformat": 4,
 "nbformat_minor": 4
}
